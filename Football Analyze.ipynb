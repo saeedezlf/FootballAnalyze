{
 "cells": [
  {
   "cell_type": "code",
   "execution_count": 3,
   "id": "05d2d395-1674-45a6-a896-0d9075fe1a77",
   "metadata": {},
   "outputs": [],
   "source": [
    "import numpy as np\n",
    "import pandas as pd\n",
    "import matplotlib.pyplot as plt"
   ]
  },
  {
   "cell_type": "code",
   "execution_count": 4,
   "id": "194c5edf-6396-4e38-9e91-f7d390900c00",
   "metadata": {},
   "outputs": [
    {
     "data": {
      "text/html": [
       "<div>\n",
       "<style scoped>\n",
       "    .dataframe tbody tr th:only-of-type {\n",
       "        vertical-align: middle;\n",
       "    }\n",
       "\n",
       "    .dataframe tbody tr th {\n",
       "        vertical-align: top;\n",
       "    }\n",
       "\n",
       "    .dataframe thead th {\n",
       "        text-align: right;\n",
       "    }\n",
       "</style>\n",
       "<table border=\"1\" class=\"dataframe\">\n",
       "  <thead>\n",
       "    <tr style=\"text-align: right;\">\n",
       "      <th></th>\n",
       "      <th>matchId</th>\n",
       "      <th>playerId</th>\n",
       "      <th>playType</th>\n",
       "      <th>bodyPart</th>\n",
       "      <th>x</th>\n",
       "      <th>y</th>\n",
       "      <th>interveningOpponents</th>\n",
       "      <th>interveningTeammates</th>\n",
       "      <th>interferenceOnShooter</th>\n",
       "      <th>minute</th>\n",
       "      <th>second</th>\n",
       "      <th>outcome</th>\n",
       "    </tr>\n",
       "  </thead>\n",
       "  <tbody>\n",
       "    <tr>\n",
       "      <th>0</th>\n",
       "      <td>m_91</td>\n",
       "      <td>p_103</td>\n",
       "      <td>جریان بازی</td>\n",
       "      <td>پای راست</td>\n",
       "      <td>13.47</td>\n",
       "      <td>-11.22</td>\n",
       "      <td>1</td>\n",
       "      <td>0</td>\n",
       "      <td>متوسط</td>\n",
       "      <td>70</td>\n",
       "      <td>9</td>\n",
       "      <td>گُل</td>\n",
       "    </tr>\n",
       "    <tr>\n",
       "      <th>1</th>\n",
       "      <td>m_17</td>\n",
       "      <td>p_16</td>\n",
       "      <td>جریان بازی</td>\n",
       "      <td>پای چپ</td>\n",
       "      <td>9.48</td>\n",
       "      <td>14.22</td>\n",
       "      <td>3</td>\n",
       "      <td>0</td>\n",
       "      <td>متوسط</td>\n",
       "      <td>55</td>\n",
       "      <td>4</td>\n",
       "      <td>مهار توسط دروازه بان</td>\n",
       "    </tr>\n",
       "    <tr>\n",
       "      <th>2</th>\n",
       "      <td>m_111</td>\n",
       "      <td>p_88</td>\n",
       "      <td>ضربه آزاد مستقیم</td>\n",
       "      <td>پای چپ</td>\n",
       "      <td>29.43</td>\n",
       "      <td>-1.25</td>\n",
       "      <td>6</td>\n",
       "      <td>2</td>\n",
       "      <td>کم</td>\n",
       "      <td>86</td>\n",
       "      <td>31</td>\n",
       "      <td>مهار توسط دروازه بان</td>\n",
       "    </tr>\n",
       "    <tr>\n",
       "      <th>3</th>\n",
       "      <td>m_142</td>\n",
       "      <td>p_87</td>\n",
       "      <td>جریان بازی</td>\n",
       "      <td>پای راست</td>\n",
       "      <td>26.93</td>\n",
       "      <td>1.00</td>\n",
       "      <td>4</td>\n",
       "      <td>1</td>\n",
       "      <td>متوسط</td>\n",
       "      <td>77</td>\n",
       "      <td>2</td>\n",
       "      <td>موقعیت از دست رفته</td>\n",
       "    </tr>\n",
       "    <tr>\n",
       "      <th>4</th>\n",
       "      <td>m_117</td>\n",
       "      <td>p_9</td>\n",
       "      <td>جریان بازی</td>\n",
       "      <td>پای راست</td>\n",
       "      <td>10.72</td>\n",
       "      <td>5.24</td>\n",
       "      <td>2</td>\n",
       "      <td>0</td>\n",
       "      <td>متوسط</td>\n",
       "      <td>76</td>\n",
       "      <td>46</td>\n",
       "      <td>گُل</td>\n",
       "    </tr>\n",
       "  </tbody>\n",
       "</table>\n",
       "</div>"
      ],
      "text/plain": [
       "  matchId playerId          playType  bodyPart      x      y  \\\n",
       "0    m_91    p_103        جریان بازی  پای راست  13.47 -11.22   \n",
       "1    m_17     p_16        جریان بازی    پای چپ   9.48  14.22   \n",
       "2   m_111     p_88  ضربه آزاد مستقیم    پای چپ  29.43  -1.25   \n",
       "3   m_142     p_87        جریان بازی  پای راست  26.93   1.00   \n",
       "4   m_117      p_9        جریان بازی  پای راست  10.72   5.24   \n",
       "\n",
       "   interveningOpponents  interveningTeammates interferenceOnShooter  minute  \\\n",
       "0                     1                     0                 متوسط      70   \n",
       "1                     3                     0                 متوسط      55   \n",
       "2                     6                     2                    کم      86   \n",
       "3                     4                     1                 متوسط      77   \n",
       "4                     2                     0                 متوسط      76   \n",
       "\n",
       "   second               outcome  \n",
       "0       9                   گُل  \n",
       "1       4  مهار توسط دروازه بان  \n",
       "2      31  مهار توسط دروازه بان  \n",
       "3       2    موقعیت از دست رفته  \n",
       "4      46                   گُل  "
      ]
     },
     "execution_count": 4,
     "metadata": {},
     "output_type": "execute_result"
    }
   ],
   "source": [
    "df = pd.read_csv(r'C:\\MachineLearning\\4\\352f1626-6710-4ac7-b1c7-4f4b6ee3cf68230721-0609481\\train.csv')\n",
    "df.head()"
   ]
  },
  {
   "cell_type": "code",
   "execution_count": 5,
   "id": "b094cfc9-9c68-46f9-a58e-667d905afc70",
   "metadata": {},
   "outputs": [
    {
     "data": {
      "text/plain": [
       "(8925, 12)"
      ]
     },
     "execution_count": 5,
     "metadata": {},
     "output_type": "execute_result"
    }
   ],
   "source": [
    "df.shape\n",
    "#تعداد سطرها و ستونها"
   ]
  },
  {
   "cell_type": "code",
   "execution_count": 7,
   "id": "81a5c2bc-4954-4914-b9b5-0b7629568ffe",
   "metadata": {},
   "outputs": [
    {
     "data": {
      "text/plain": [
       "160"
      ]
     },
     "execution_count": 7,
     "metadata": {},
     "output_type": "execute_result"
    }
   ],
   "source": [
    "len(set(df.playerId))"
   ]
  },
  {
   "cell_type": "code",
   "execution_count": 12,
   "id": "7ac2ac65-2ce9-4a2f-8297-cf04e5de06e6",
   "metadata": {},
   "outputs": [
    {
     "data": {
      "text/plain": [
       "160"
      ]
     },
     "execution_count": 12,
     "metadata": {},
     "output_type": "execute_result"
    }
   ],
   "source": [
    "len(df['playerId'].unique())"
   ]
  },
  {
   "cell_type": "code",
   "execution_count": 13,
   "id": "feb1073c-8d6d-46f6-b4a2-15daee12af4a",
   "metadata": {},
   "outputs": [
    {
     "data": {
      "text/plain": [
       "160"
      ]
     },
     "execution_count": 13,
     "metadata": {},
     "output_type": "execute_result"
    }
   ],
   "source": [
    "df['playerId'].nunique()"
   ]
  },
  {
   "cell_type": "code",
   "execution_count": 14,
   "id": "e88a667e-b4e0-4a7d-bc40-7019ab27a4a5",
   "metadata": {},
   "outputs": [
    {
     "data": {
      "text/html": [
       "<div>\n",
       "<style scoped>\n",
       "    .dataframe tbody tr th:only-of-type {\n",
       "        vertical-align: middle;\n",
       "    }\n",
       "\n",
       "    .dataframe tbody tr th {\n",
       "        vertical-align: top;\n",
       "    }\n",
       "\n",
       "    .dataframe thead th {\n",
       "        text-align: right;\n",
       "    }\n",
       "</style>\n",
       "<table border=\"1\" class=\"dataframe\">\n",
       "  <thead>\n",
       "    <tr style=\"text-align: right;\">\n",
       "      <th></th>\n",
       "      <th>matchId</th>\n",
       "      <th>playerId</th>\n",
       "      <th>playType</th>\n",
       "      <th>bodyPart</th>\n",
       "      <th>x</th>\n",
       "      <th>y</th>\n",
       "      <th>interveningOpponents</th>\n",
       "      <th>interveningTeammates</th>\n",
       "      <th>interferenceOnShooter</th>\n",
       "      <th>minute</th>\n",
       "      <th>second</th>\n",
       "      <th>outcome</th>\n",
       "    </tr>\n",
       "  </thead>\n",
       "  <tbody>\n",
       "    <tr>\n",
       "      <th>0</th>\n",
       "      <td>m_91</td>\n",
       "      <td>p_103</td>\n",
       "      <td>جریان بازی</td>\n",
       "      <td>پای راست</td>\n",
       "      <td>13.47</td>\n",
       "      <td>-11.22</td>\n",
       "      <td>1</td>\n",
       "      <td>0</td>\n",
       "      <td>متوسط</td>\n",
       "      <td>70</td>\n",
       "      <td>9</td>\n",
       "      <td>گُل</td>\n",
       "    </tr>\n",
       "    <tr>\n",
       "      <th>4</th>\n",
       "      <td>m_117</td>\n",
       "      <td>p_9</td>\n",
       "      <td>جریان بازی</td>\n",
       "      <td>پای راست</td>\n",
       "      <td>10.72</td>\n",
       "      <td>5.24</td>\n",
       "      <td>2</td>\n",
       "      <td>0</td>\n",
       "      <td>متوسط</td>\n",
       "      <td>76</td>\n",
       "      <td>46</td>\n",
       "      <td>گُل</td>\n",
       "    </tr>\n",
       "    <tr>\n",
       "      <th>23</th>\n",
       "      <td>m_140</td>\n",
       "      <td>p_143</td>\n",
       "      <td>جریان بازی</td>\n",
       "      <td>سر</td>\n",
       "      <td>7.23</td>\n",
       "      <td>4.99</td>\n",
       "      <td>1</td>\n",
       "      <td>0</td>\n",
       "      <td>کم</td>\n",
       "      <td>88</td>\n",
       "      <td>20</td>\n",
       "      <td>گُل</td>\n",
       "    </tr>\n",
       "    <tr>\n",
       "      <th>30</th>\n",
       "      <td>m_110</td>\n",
       "      <td>p_104</td>\n",
       "      <td>جریان بازی</td>\n",
       "      <td>پای چپ</td>\n",
       "      <td>9.23</td>\n",
       "      <td>4.99</td>\n",
       "      <td>2</td>\n",
       "      <td>0</td>\n",
       "      <td>کم</td>\n",
       "      <td>36</td>\n",
       "      <td>25</td>\n",
       "      <td>گُل</td>\n",
       "    </tr>\n",
       "    <tr>\n",
       "      <th>31</th>\n",
       "      <td>m_59</td>\n",
       "      <td>p_139</td>\n",
       "      <td>جریان بازی</td>\n",
       "      <td>پای راست</td>\n",
       "      <td>12.72</td>\n",
       "      <td>4.74</td>\n",
       "      <td>3</td>\n",
       "      <td>0</td>\n",
       "      <td>متوسط</td>\n",
       "      <td>50</td>\n",
       "      <td>8</td>\n",
       "      <td>گُل</td>\n",
       "    </tr>\n",
       "  </tbody>\n",
       "</table>\n",
       "</div>"
      ],
      "text/plain": [
       "   matchId playerId    playType  bodyPart      x      y  interveningOpponents  \\\n",
       "0     m_91    p_103  جریان بازی  پای راست  13.47 -11.22                     1   \n",
       "4    m_117      p_9  جریان بازی  پای راست  10.72   5.24                     2   \n",
       "23   m_140    p_143  جریان بازی        سر   7.23   4.99                     1   \n",
       "30   m_110    p_104  جریان بازی    پای چپ   9.23   4.99                     2   \n",
       "31    m_59    p_139  جریان بازی  پای راست  12.72   4.74                     3   \n",
       "\n",
       "    interveningTeammates interferenceOnShooter  minute  second outcome  \n",
       "0                      0                 متوسط      70       9     گُل  \n",
       "4                      0                 متوسط      76      46     گُل  \n",
       "23                     0                    کم      88      20     گُل  \n",
       "30                     0                    کم      36      25     گُل  \n",
       "31                     0                 متوسط      50       8     گُل  "
      ]
     },
     "execution_count": 14,
     "metadata": {},
     "output_type": "execute_result"
    }
   ],
   "source": [
    "df_goal = df[df['outcome'] == 'گُل']\n",
    "df_goal.head()"
   ]
  },
  {
   "cell_type": "code",
   "execution_count": 8,
   "id": "9b6b9826-2c5b-4d89-9a41-796232987f65",
   "metadata": {},
   "outputs": [],
   "source": [
    "d = {}\n",
    "for p in df_goal.playerId:\n",
    "    d.setdefault(p,0)\n",
    "    d[p] = d[p] + 1\n"
   ]
  },
  {
   "cell_type": "code",
   "execution_count": 9,
   "id": "faa815e0-2b51-4a72-a544-eb98205318d4",
   "metadata": {},
   "outputs": [
    {
     "name": "stdout",
     "output_type": "stream",
     "text": [
      "p_18\n"
     ]
    }
   ],
   "source": [
    "m = max(d.values())\n",
    "for k,v in d.items():\n",
    "    if v == m:\n",
    "        print(k)"
   ]
  },
  {
   "cell_type": "code",
   "execution_count": 10,
   "id": "d115933b-5bb3-4eb5-bebf-d5b5c7e89689",
   "metadata": {},
   "outputs": [
    {
     "data": {
      "text/plain": [
       "'p_18'"
      ]
     },
     "execution_count": 10,
     "metadata": {},
     "output_type": "execute_result"
    }
   ],
   "source": [
    "p_goal = df_goal['playerId'].value_counts()\n",
    "p_goal.index[0]"
   ]
  },
  {
   "cell_type": "code",
   "execution_count": 11,
   "id": "2a4a857f-1c50-4635-be4d-2d342e55467d",
   "metadata": {},
   "outputs": [
    {
     "data": {
      "text/plain": [
       "'p_18'"
      ]
     },
     "execution_count": 11,
     "metadata": {},
     "output_type": "execute_result"
    }
   ],
   "source": [
    "p_goal.idxmax()"
   ]
  },
  {
   "cell_type": "code",
   "execution_count": 12,
   "id": "e1bf057f-d8da-4943-9ccc-2256a28cc4b4",
   "metadata": {},
   "outputs": [
    {
     "data": {
      "text/plain": [
       "'p_141'"
      ]
     },
     "execution_count": 12,
     "metadata": {},
     "output_type": "execute_result"
    }
   ],
   "source": [
    "p_goal.idxmin()"
   ]
  },
  {
   "cell_type": "code",
   "execution_count": 13,
   "id": "a407e409-bb27-4051-a2aa-9cd42a36a604",
   "metadata": {},
   "outputs": [
    {
     "data": {
      "text/plain": [
       "2"
      ]
     },
     "execution_count": 13,
     "metadata": {},
     "output_type": "execute_result"
    }
   ],
   "source": [
    "p_goal[p_goal.idxmin()]"
   ]
  },
  {
   "cell_type": "code",
   "execution_count": 14,
   "id": "5791b54f-52f5-401f-be79-f7b321047007",
   "metadata": {},
   "outputs": [
    {
     "data": {
      "text/plain": [
       "16"
      ]
     },
     "execution_count": 14,
     "metadata": {},
     "output_type": "execute_result"
    }
   ],
   "source": [
    "p_goal[p_goal.idxmax()]"
   ]
  },
  {
   "cell_type": "code",
   "execution_count": 20,
   "id": "dd2e1c74-5c74-4f4d-a4c0-98f08104e398",
   "metadata": {},
   "outputs": [
    {
     "data": {
      "text/plain": [
       "'p_99'"
      ]
     },
     "execution_count": 20,
     "metadata": {},
     "output_type": "execute_result"
    }
   ],
   "source": [
    "p_goal.index.max()"
   ]
  },
  {
   "cell_type": "code",
   "execution_count": 21,
   "id": "0c25804d-bc19-4878-b02f-4d4ed76ad21a",
   "metadata": {},
   "outputs": [],
   "source": [
    "p_shoot = df['playerId'].value_counts()"
   ]
  },
  {
   "cell_type": "code",
   "execution_count": 22,
   "id": "9e054bbe-d370-4b4c-8036-91ea05cb9452",
   "metadata": {},
   "outputs": [
    {
     "data": {
      "text/plain": [
       "p_1      0.149254\n",
       "p_10     0.129630\n",
       "p_100    0.102041\n",
       "p_101    0.195652\n",
       "p_102    0.180328\n",
       "           ...   \n",
       "p_95     0.078431\n",
       "p_96     0.116279\n",
       "p_97     0.138462\n",
       "p_98     0.092593\n",
       "p_99     0.064516\n",
       "Name: playerId, Length: 160, dtype: float64"
      ]
     },
     "execution_count": 22,
     "metadata": {},
     "output_type": "execute_result"
    }
   ],
   "source": [
    "rate = p_goal/p_shoot\n",
    "rate"
   ]
  },
  {
   "cell_type": "code",
   "execution_count": 23,
   "id": "b8f9b2a7-7215-49dd-b5ad-78069541bbee",
   "metadata": {},
   "outputs": [
    {
     "data": {
      "text/plain": [
       "'p_18'"
      ]
     },
     "execution_count": 23,
     "metadata": {},
     "output_type": "execute_result"
    }
   ],
   "source": [
    "rate.idxmax()"
   ]
  },
  {
   "cell_type": "code",
   "execution_count": 24,
   "id": "25310109-5951-41c0-852a-5a8421cf11ac",
   "metadata": {},
   "outputs": [
    {
     "data": {
      "text/plain": [
       "0.25396825396825395"
      ]
     },
     "execution_count": 24,
     "metadata": {},
     "output_type": "execute_result"
    }
   ],
   "source": [
    "rate[rate.idxmax()]"
   ]
  },
  {
   "cell_type": "code",
   "execution_count": 25,
   "id": "d81dcd96-5755-45d9-9e4a-484207e7a9b4",
   "metadata": {},
   "outputs": [
    {
     "data": {
      "text/plain": [
       "'p_147'"
      ]
     },
     "execution_count": 25,
     "metadata": {},
     "output_type": "execute_result"
    }
   ],
   "source": [
    "rate.idxmin()"
   ]
  },
  {
   "cell_type": "code",
   "execution_count": 26,
   "id": "fbbadbe1-43eb-4a7a-bcf3-7a746d42b026",
   "metadata": {},
   "outputs": [
    {
     "data": {
      "text/plain": [
       "0.028985507246376812"
      ]
     },
     "execution_count": 26,
     "metadata": {},
     "output_type": "execute_result"
    }
   ],
   "source": [
    "rate[rate.idxmin()]"
   ]
  },
  {
   "cell_type": "code",
   "execution_count": 27,
   "id": "9dd0e456-95c8-4c22-938d-2283f4d64ead",
   "metadata": {},
   "outputs": [],
   "source": [
    "df['distance'] = np.sqrt(df['x']**2 + df['y']**2)"
   ]
  },
  {
   "cell_type": "code",
   "execution_count": 49,
   "id": "d1335ada-84ed-41be-8caa-c1eb836ec4c9",
   "metadata": {},
   "outputs": [
    {
     "data": {
      "text/html": [
       "<div>\n",
       "<style scoped>\n",
       "    .dataframe tbody tr th:only-of-type {\n",
       "        vertical-align: middle;\n",
       "    }\n",
       "\n",
       "    .dataframe tbody tr th {\n",
       "        vertical-align: top;\n",
       "    }\n",
       "\n",
       "    .dataframe thead th {\n",
       "        text-align: right;\n",
       "    }\n",
       "</style>\n",
       "<table border=\"1\" class=\"dataframe\">\n",
       "  <thead>\n",
       "    <tr style=\"text-align: right;\">\n",
       "      <th></th>\n",
       "      <th>matchId</th>\n",
       "      <th>playerId</th>\n",
       "      <th>playType</th>\n",
       "      <th>bodyPart</th>\n",
       "      <th>x</th>\n",
       "      <th>y</th>\n",
       "      <th>distance</th>\n",
       "      <th>interveningOpponents</th>\n",
       "      <th>interveningTeammates</th>\n",
       "      <th>interferenceOnShooter</th>\n",
       "      <th>minute</th>\n",
       "      <th>second</th>\n",
       "      <th>outcome</th>\n",
       "    </tr>\n",
       "  </thead>\n",
       "  <tbody>\n",
       "    <tr>\n",
       "      <th>0</th>\n",
       "      <td>m_91</td>\n",
       "      <td>p_103</td>\n",
       "      <td>جریان بازی</td>\n",
       "      <td>پای راست</td>\n",
       "      <td>13.47</td>\n",
       "      <td>-11.22</td>\n",
       "      <td>17.530810</td>\n",
       "      <td>1</td>\n",
       "      <td>0</td>\n",
       "      <td>متوسط</td>\n",
       "      <td>70</td>\n",
       "      <td>9</td>\n",
       "      <td>گُل</td>\n",
       "    </tr>\n",
       "    <tr>\n",
       "      <th>1</th>\n",
       "      <td>m_17</td>\n",
       "      <td>p_16</td>\n",
       "      <td>جریان بازی</td>\n",
       "      <td>پای چپ</td>\n",
       "      <td>9.48</td>\n",
       "      <td>14.22</td>\n",
       "      <td>17.090313</td>\n",
       "      <td>3</td>\n",
       "      <td>0</td>\n",
       "      <td>متوسط</td>\n",
       "      <td>55</td>\n",
       "      <td>4</td>\n",
       "      <td>مهار توسط دروازه بان</td>\n",
       "    </tr>\n",
       "    <tr>\n",
       "      <th>2</th>\n",
       "      <td>m_111</td>\n",
       "      <td>p_88</td>\n",
       "      <td>ضربه آزاد مستقیم</td>\n",
       "      <td>پای چپ</td>\n",
       "      <td>29.43</td>\n",
       "      <td>-1.25</td>\n",
       "      <td>29.456534</td>\n",
       "      <td>6</td>\n",
       "      <td>2</td>\n",
       "      <td>کم</td>\n",
       "      <td>86</td>\n",
       "      <td>31</td>\n",
       "      <td>مهار توسط دروازه بان</td>\n",
       "    </tr>\n",
       "    <tr>\n",
       "      <th>3</th>\n",
       "      <td>m_142</td>\n",
       "      <td>p_87</td>\n",
       "      <td>جریان بازی</td>\n",
       "      <td>پای راست</td>\n",
       "      <td>26.93</td>\n",
       "      <td>1.00</td>\n",
       "      <td>26.948560</td>\n",
       "      <td>4</td>\n",
       "      <td>1</td>\n",
       "      <td>متوسط</td>\n",
       "      <td>77</td>\n",
       "      <td>2</td>\n",
       "      <td>موقعیت از دست رفته</td>\n",
       "    </tr>\n",
       "    <tr>\n",
       "      <th>4</th>\n",
       "      <td>m_117</td>\n",
       "      <td>p_9</td>\n",
       "      <td>جریان بازی</td>\n",
       "      <td>پای راست</td>\n",
       "      <td>10.72</td>\n",
       "      <td>5.24</td>\n",
       "      <td>11.932141</td>\n",
       "      <td>2</td>\n",
       "      <td>0</td>\n",
       "      <td>متوسط</td>\n",
       "      <td>76</td>\n",
       "      <td>46</td>\n",
       "      <td>گُل</td>\n",
       "    </tr>\n",
       "  </tbody>\n",
       "</table>\n",
       "</div>"
      ],
      "text/plain": [
       "  matchId playerId          playType  bodyPart      x      y   distance  \\\n",
       "0    m_91    p_103        جریان بازی  پای راست  13.47 -11.22  17.530810   \n",
       "1    m_17     p_16        جریان بازی    پای چپ   9.48  14.22  17.090313   \n",
       "2   m_111     p_88  ضربه آزاد مستقیم    پای چپ  29.43  -1.25  29.456534   \n",
       "3   m_142     p_87        جریان بازی  پای راست  26.93   1.00  26.948560   \n",
       "4   m_117      p_9        جریان بازی  پای راست  10.72   5.24  11.932141   \n",
       "\n",
       "   interveningOpponents  interveningTeammates interferenceOnShooter  minute  \\\n",
       "0                     1                     0                 متوسط      70   \n",
       "1                     3                     0                 متوسط      55   \n",
       "2                     6                     2                    کم      86   \n",
       "3                     4                     1                 متوسط      77   \n",
       "4                     2                     0                 متوسط      76   \n",
       "\n",
       "   second               outcome  \n",
       "0       9                   گُل  \n",
       "1       4  مهار توسط دروازه بان  \n",
       "2      31  مهار توسط دروازه بان  \n",
       "3       2    موقعیت از دست رفته  \n",
       "4      46                   گُل  "
      ]
     },
     "execution_count": 49,
     "metadata": {},
     "output_type": "execute_result"
    }
   ],
   "source": [
    "df = df[['matchId', 'playerId', 'playType', 'bodyPart', 'x', 'y', 'distance',\n",
    "       'interveningOpponents', 'interveningTeammates', 'interferenceOnShooter',\n",
    "       'minute', 'second', 'outcome']]\n",
    "df.head()"
   ]
  },
  {
   "cell_type": "code",
   "execution_count": 30,
   "id": "93589f70-aea2-4abc-a1bb-d474f75bae0e",
   "metadata": {},
   "outputs": [
    {
     "data": {
      "image/png": "[encoded data removed]",
      "text/plain": [
       "<Figure size 640x480 with 1 Axes>"
      ]
     },
     "metadata": {},
     "output_type": "display_data"
    }
   ],
   "source": [
    "not_goal = df[df['outcome'] != 'گُل']\n",
    "goal = df[df['outcome'] == 'گُل']\n",
    "plt.scatter(not_goal.x,not_goal.y,label = 'not_goal' , color = 'blue', marker='^')\n",
    "plt.scatter(goal.x,goal.y,label = 'goal', color = 'red', marker='o'  )\n",
    "plt.xlabel('X')\n",
    "plt.ylabel('Y')\n",
    "plt.legend()\n",
    "plt.show()"
   ]
  },
  {
   "cell_type": "code",
   "execution_count": 56,
   "id": "0130acf4-ee7e-4ce2-a28f-fad253dc4f5e",
   "metadata": {},
   "outputs": [
    {
     "data": {
      "image/png": "[encoded data removed]",
      "text/plain": [
       "<Figure size 640x480 with 4 Axes>"
      ]
     },
     "metadata": {},
     "output_type": "display_data"
    }
   ],
   "source": [
    "plt.subplot(221)\n",
    "plt.hist(not_goal.x)\n",
    "plt.xlabel('x')\n",
    "plt.subplot(222)\n",
    "plt.hist(goal.x)\n",
    "plt.xlabel('x')\n",
    "plt.subplot(223)\n",
    "plt.boxplot(not_goal.x, vert= False)\n",
    "plt.subplot(224)\n",
    "plt.boxplot(goal.x, vert= False)\n",
    "plt.show()"
   ]
  },
  {
   "cell_type": "code",
   "execution_count": null,
   "id": "08990b83-b487-4d3d-a352-35dedc698cbb",
   "metadata": {},
   "outputs": [],
   "source": []
  }
 ],
 "metadata": {
  "kernelspec": {
   "display_name": "Python 3 (ipykernel)",
   "language": "python",
   "name": "python3"
  },
  "language_info": {
   "codemirror_mode": {
    "name": "ipython",
    "version": 3
   },
   "file_extension": ".py",
   "mimetype": "text/x-python",
   "name": "python",
   "nbconvert_exporter": "python",
   "pygments_lexer": "ipython3",
   "version": "3.10.9"
  }
 },
 "nbformat": 4,
 "nbformat_minor": 5
}
